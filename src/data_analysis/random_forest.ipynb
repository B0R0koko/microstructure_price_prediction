{
 "cells": [
  {
   "cell_type": "code",
   "execution_count": null,
   "metadata": {},
   "outputs": [],
   "source": [
    "from processing_utils import train_test_split, target_encoding, X_y_split\n",
    "\n",
    "\n",
    "import polars as pl\n",
    "import pandas as pd\n",
    "import numpy as np \n",
    "from sklearn.ensemble import RandomForestRegressor\n",
    "from sklearn.metrics import mean_squared_error, r2_score\n",
    "from tqdm import tqdm\n",
    "from sklearn.model_selection import cross_val_score, GridSearchCV\n",
    "\n",
    "import matplotlib.pyplot as plt\n",
    "import plotly\n",
    "\n",
    "from sklearn.preprocessing import StandardScaler\n",
    "from sklearn.metrics import mean_squared_error, mean_absolute_percentage_error\n",
    "\n",
    "\n",
    "import optuna\n",
    "from optuna.visualization import plot_optimization_history, plot_parallel_coordinate\n",
    "from sklearn.ensemble import RandomForestRegressor\n",
    "from sklearn.model_selection import cross_val_score, KFold\n",
    "from sklearn.metrics import mean_squared_error\n",
    "import numpy as np\n"
   ]
  },
  {
   "cell_type": "code",
   "execution_count": 2,
   "metadata": {},
   "outputs": [],
   "source": [
    "df: pl.DataFrame = pl.read_parquet(r'C:\\Users\\310\\Desktop\\Progects_Py\\data\\microstructure_price_prediction_data\\cross_section\\df_cross_section_V0.1_.parquet')"
   ]
  },
  {
   "cell_type": "code",
   "execution_count": 3,
   "metadata": {},
   "outputs": [
    {
     "name": "stdout",
     "output_type": "stream",
     "text": [
      "Train len for AVAX-USDT is 13536\n",
      "Test len for AVAX-USDT is 1340121\n",
      "Train len for DOGE-USDT is 32493\n",
      "Test len for DOGE-USDT is 3216827\n"
     ]
    }
   ],
   "source": [
    "df_train, df_test = train_test_split(df, train_test_ratio=0.01, print_stat=True)"
   ]
  },
  {
   "cell_type": "code",
   "execution_count": 4,
   "metadata": {},
   "outputs": [],
   "source": [
    "target_var: str = \"target_five_step_ahead\""
   ]
  },
  {
   "cell_type": "code",
   "execution_count": 5,
   "metadata": {},
   "outputs": [],
   "source": [
    "df_train, df_test = target_encoding(target_var, df_train, df_test)"
   ]
  },
  {
   "cell_type": "code",
   "execution_count": 6,
   "metadata": {},
   "outputs": [],
   "source": [
    "df_train = df_train.select(pl.exclude('trade_time', 'is_buyer_maker', 'date', 'target'))\n",
    "df_test = df_test.select(pl.exclude('trade_time', 'is_buyer_maker', 'date', 'target'))"
   ]
  },
  {
   "cell_type": "code",
   "execution_count": 7,
   "metadata": {},
   "outputs": [
    {
     "name": "stdout",
     "output_type": "stream",
     "text": [
      "(46013,)\n"
     ]
    }
   ],
   "source": [
    "X_train, y_train, X_test, y_test = X_y_split(target_var, df_train, df_test)\n",
    "print(y_train.shape)\n"
   ]
  },
  {
   "cell_type": "code",
   "execution_count": 8,
   "metadata": {},
   "outputs": [
    {
     "name": "stderr",
     "output_type": "stream",
     "text": [
      "[I 2024-11-23 21:23:54,968] A new study created in memory with name: no-name-2cb77987-c5b1-4bea-90c0-82643b86108f\n"
     ]
    },
    {
     "data": {
      "application/vnd.jupyter.widget-view+json": {
       "model_id": "99afa542bf7d4f27806e785eec1c7937",
       "version_major": 2,
       "version_minor": 0
      },
      "text/plain": [
       "  0%|          | 0/50 [00:00<?, ?it/s]"
      ]
     },
     "metadata": {},
     "output_type": "display_data"
    },
    {
     "name": "stdout",
     "output_type": "stream",
     "text": [
      "[I 2024-11-23 21:24:25,874] Trial 0 finished with value: 71.03770017160303 and parameters: {'n_estimators': 278, 'max_depth': 37, 'min_samples_split': 10, 'min_weight_fraction_leaf': 0.402823561786303, 'min_impurity_decrease': 0.01552328163044181}. Best is trial 0 with value: 71.03770017160303.\n",
      "[I 2024-11-23 21:24:38,931] Trial 1 finished with value: 0.00479086148898065 and parameters: {'n_estimators': 83, 'max_depth': 4, 'min_samples_split': 8, 'min_weight_fraction_leaf': 0.17584563643814521, 'min_impurity_decrease': 0.4381604176395775}. Best is trial 1 with value: 0.00479086148898065.\n",
      "[I 2024-11-23 21:25:11,632] Trial 2 finished with value: 69.80232533470048 and parameters: {'n_estimators': 329, 'max_depth': 12, 'min_samples_split': 6, 'min_weight_fraction_leaf': 0.4004213643326946, 'min_impurity_decrease': 0.2742907800571154}. Best is trial 1 with value: 0.00479086148898065.\n",
      "[I 2024-11-23 21:25:29,346] Trial 3 finished with value: 0.004790864400844805 and parameters: {'n_estimators': 104, 'max_depth': 50, 'min_samples_split': 12, 'min_weight_fraction_leaf': 0.08037108934089904, 'min_impurity_decrease': 0.2010762214904253}. Best is trial 1 with value: 0.00479086148898065.\n",
      "[I 2024-11-23 21:26:04,722] Trial 4 finished with value: 0.00479087613938335 and parameters: {'n_estimators': 186, 'max_depth': 40, 'min_samples_split': 2, 'min_weight_fraction_leaf': 0.25370360853898594, 'min_impurity_decrease': 0.3888885784046059}. Best is trial 1 with value: 0.00479086148898065.\n",
      "[I 2024-11-23 21:26:17,898] Trial 5 finished with value: 0.00479085052314961 and parameters: {'n_estimators': 59, 'max_depth': 44, 'min_samples_split': 5, 'min_weight_fraction_leaf': 0.1053559584331144, 'min_impurity_decrease': 0.1906548876041811}. Best is trial 5 with value: 0.00479085052314961.\n",
      "[I 2024-11-23 21:27:27,576] Trial 6 finished with value: 0.004790858372490875 and parameters: {'n_estimators': 457, 'max_depth': 45, 'min_samples_split': 18, 'min_weight_fraction_leaf': 0.2597485726694227, 'min_impurity_decrease': 0.132980129227183}. Best is trial 5 with value: 0.00479085052314961.\n",
      "[I 2024-11-23 21:27:34,930] Trial 7 finished with value: 83.64432087868256 and parameters: {'n_estimators': 72, 'max_depth': 43, 'min_samples_split': 10, 'min_weight_fraction_leaf': 0.4311988311683122, 'min_impurity_decrease': 0.14641451977965558}. Best is trial 5 with value: 0.00479085052314961.\n",
      "[I 2024-11-23 21:28:01,852] Trial 8 finished with value: 0.004790870860614693 and parameters: {'n_estimators': 160, 'max_depth': 8, 'min_samples_split': 8, 'min_weight_fraction_leaf': 0.03325179947242424, 'min_impurity_decrease': 0.371810410519788}. Best is trial 5 with value: 0.00479085052314961.\n",
      "[I 2024-11-23 21:28:29,884] Trial 9 finished with value: 0.010094283211097553 and parameters: {'n_estimators': 186, 'max_depth': 18, 'min_samples_split': 11, 'min_weight_fraction_leaf': 0.290478867784452, 'min_impurity_decrease': 0.42053651730375613}. Best is trial 5 with value: 0.00479085052314961.\n",
      "[I 2024-11-23 21:29:36,485] Trial 10 finished with value: 0.004790862206731727 and parameters: {'n_estimators': 405, 'max_depth': 28, 'min_samples_split': 2, 'min_weight_fraction_leaf': 0.12631629433050795, 'min_impurity_decrease': 0.012210007655701627}. Best is trial 5 with value: 0.00479085052314961.\n",
      "[I 2024-11-23 21:30:49,661] Trial 11 finished with value: 0.004790855902457648 and parameters: {'n_estimators': 486, 'max_depth': 50, 'min_samples_split': 20, 'min_weight_fraction_leaf': 0.187514965731767, 'min_impurity_decrease': 0.12575747927295403}. Best is trial 5 with value: 0.00479085052314961.\n",
      "[I 2024-11-23 21:31:44,666] Trial 12 finished with value: 0.004790861329879522 and parameters: {'n_estimators': 375, 'max_depth': 32, 'min_samples_split': 20, 'min_weight_fraction_leaf': 0.16436040002110736, 'min_impurity_decrease': 0.2641312211731438}. Best is trial 5 with value: 0.00479085052314961.\n",
      "[I 2024-11-23 21:32:57,841] Trial 13 finished with value: 0.004790855162948394 and parameters: {'n_estimators': 496, 'max_depth': 50, 'min_samples_split': 15, 'min_weight_fraction_leaf': 0.1895324633185183, 'min_impurity_decrease': 0.11410717223675654}. Best is trial 5 with value: 0.00479085052314961.\n",
      "[I 2024-11-23 21:33:39,810] Trial 14 finished with value: 0.004790863703687328 and parameters: {'n_estimators': 254, 'max_depth': 22, 'min_samples_split': 15, 'min_weight_fraction_leaf': 0.01857474042659424, 'min_impurity_decrease': 0.06713982304625496}. Best is trial 5 with value: 0.00479085052314961.\n",
      "[I 2024-11-23 21:34:22,081] Trial 15 finished with value: 0.004790862204672039 and parameters: {'n_estimators': 259, 'max_depth': 35, 'min_samples_split': 14, 'min_weight_fraction_leaf': 0.08796640414707735, 'min_impurity_decrease': 0.2077505598736436}. Best is trial 5 with value: 0.00479085052314961.\n",
      "[I 2024-11-23 21:35:22,171] Trial 16 finished with value: 0.051875699073198334 and parameters: {'n_estimators': 408, 'max_depth': 45, 'min_samples_split': 16, 'min_weight_fraction_leaf': 0.2922091412806408, 'min_impurity_decrease': 0.31097889114661087}. Best is trial 5 with value: 0.00479085052314961.\n",
      "[I 2024-11-23 21:35:51,846] Trial 17 finished with value: 30.20537974580546 and parameters: {'n_estimators': 313, 'max_depth': 31, 'min_samples_split': 5, 'min_weight_fraction_leaf': 0.3337111841023162, 'min_impurity_decrease': 0.08542322635726374}. Best is trial 5 with value: 0.00479085052314961.\n",
      "[I 2024-11-23 21:36:12,240] Trial 18 finished with value: 0.004790868918761754 and parameters: {'n_estimators': 137, 'max_depth': 40, 'min_samples_split': 13, 'min_weight_fraction_leaf': 0.19641206455300608, 'min_impurity_decrease': 0.49917923991831736}. Best is trial 5 with value: 0.00479085052314961.\n",
      "[I 2024-11-23 21:36:49,298] Trial 19 finished with value: 0.004790861507245567 and parameters: {'n_estimators': 229, 'max_depth': 48, 'min_samples_split': 17, 'min_weight_fraction_leaf': 0.11071607799602767, 'min_impurity_decrease': 0.19816473067838125}. Best is trial 5 with value: 0.00479085052314961.\n",
      "[I 2024-11-23 21:37:21,512] Trial 20 finished with value: 105.78215993713289 and parameters: {'n_estimators': 345, 'max_depth': 23, 'min_samples_split': 6, 'min_weight_fraction_leaf': 0.488983462244574, 'min_impurity_decrease': 0.32985519184835166}. Best is trial 5 with value: 0.00479085052314961.\n",
      "[I 2024-11-23 21:38:33,690] Trial 21 finished with value: 0.004790855240073606 and parameters: {'n_estimators': 493, 'max_depth': 50, 'min_samples_split': 20, 'min_weight_fraction_leaf': 0.20896091951312726, 'min_impurity_decrease': 0.1338588608610899}. Best is trial 5 with value: 0.00479085052314961.\n",
      "[I 2024-11-23 21:39:41,548] Trial 22 finished with value: 0.004790858587945682 and parameters: {'n_estimators': 469, 'max_depth': 45, 'min_samples_split': 18, 'min_weight_fraction_leaf': 0.22488250835523915, 'min_impurity_decrease': 0.1668071151580483}. Best is trial 5 with value: 0.00479085052314961.\n",
      "[I 2024-11-23 21:40:49,130] Trial 23 finished with value: 0.004790860129326941 and parameters: {'n_estimators': 423, 'max_depth': 47, 'min_samples_split': 19, 'min_weight_fraction_leaf': 0.13892140643265938, 'min_impurity_decrease': 0.08007087950774139}. Best is trial 5 with value: 0.00479085052314961.\n",
      "[I 2024-11-23 21:41:59,880] Trial 24 finished with value: 0.004790858656661132 and parameters: {'n_estimators': 443, 'max_depth': 41, 'min_samples_split': 15, 'min_weight_fraction_leaf': 0.056744316907610226, 'min_impurity_decrease': 0.10793767308638097}. Best is trial 5 with value: 0.00479085052314961.\n",
      "[I 2024-11-23 21:43:16,591] Trial 25 finished with value: 0.004790855143608293 and parameters: {'n_estimators': 497, 'max_depth': 36, 'min_samples_split': 4, 'min_weight_fraction_leaf': 0.1469037840577124, 'min_impurity_decrease': 0.23312428925031808}. Best is trial 5 with value: 0.00479085052314961.\n",
      "[I 2024-11-23 21:44:15,038] Trial 26 finished with value: 0.004790861329116468 and parameters: {'n_estimators': 367, 'max_depth': 37, 'min_samples_split': 4, 'min_weight_fraction_leaf': 0.14528305704120884, 'min_impurity_decrease': 0.2393093609325871}. Best is trial 5 with value: 0.00479085052314961.\n",
      "[I 2024-11-23 21:45:02,681] Trial 27 finished with value: 0.004790861550170651 and parameters: {'n_estimators': 294, 'max_depth': 33, 'min_samples_split': 4, 'min_weight_fraction_leaf': 0.09392038083459171, 'min_impurity_decrease': 0.17749208029519892}. Best is trial 5 with value: 0.00479085052314961.\n",
      "[I 2024-11-23 21:45:11,161] Trial 28 finished with value: 0.00479084897944273 and parameters: {'n_estimators': 51, 'max_depth': 38, 'min_samples_split': 8, 'min_weight_fraction_leaf': 0.0026141399318310166, 'min_impurity_decrease': 0.2317337960613291}. Best is trial 28 with value: 0.00479084897944273.\n",
      "[I 2024-11-23 21:45:31,219] Trial 29 finished with value: 0.004790875467624708 and parameters: {'n_estimators': 121, 'max_depth': 37, 'min_samples_split': 8, 'min_weight_fraction_leaf': 0.002666267254954169, 'min_impurity_decrease': 0.23605139385758103}. Best is trial 28 with value: 0.00479084897944273.\n",
      "[I 2024-11-23 21:45:39,984] Trial 30 finished with value: 0.004790850206425378 and parameters: {'n_estimators': 52, 'max_depth': 27, 'min_samples_split': 7, 'min_weight_fraction_leaf': 0.052981848285260064, 'min_impurity_decrease': 0.28990499261169494}. Best is trial 28 with value: 0.00479084897944273.\n",
      "[I 2024-11-23 21:45:50,293] Trial 31 finished with value: 0.004790847125289758 and parameters: {'n_estimators': 60, 'max_depth': 29, 'min_samples_split': 7, 'min_weight_fraction_leaf': 0.05385219631741026, 'min_impurity_decrease': 0.3112031973589575}. Best is trial 31 with value: 0.004790847125289758.\n",
      "[I 2024-11-23 21:45:59,361] Trial 32 finished with value: 0.00479084882588523 and parameters: {'n_estimators': 53, 'max_depth': 27, 'min_samples_split': 9, 'min_weight_fraction_leaf': 0.04980655937615604, 'min_impurity_decrease': 0.30233350998458713}. Best is trial 31 with value: 0.004790847125289758.\n",
      "[I 2024-11-23 21:46:08,679] Trial 33 finished with value: 0.004790848277384799 and parameters: {'n_estimators': 54, 'max_depth': 26, 'min_samples_split': 9, 'min_weight_fraction_leaf': 0.04869291629140885, 'min_impurity_decrease': 0.3004549053299602}. Best is trial 31 with value: 0.004790847125289758.\n",
      "[I 2024-11-23 21:46:24,975] Trial 34 finished with value: 0.004790860732048135 and parameters: {'n_estimators': 99, 'max_depth': 23, 'min_samples_split': 10, 'min_weight_fraction_leaf': 0.055334735807330254, 'min_impurity_decrease': 0.34245100105216214}. Best is trial 31 with value: 0.004790847125289758.\n",
      "[I 2024-11-23 21:46:39,398] Trial 35 finished with value: 0.004790859030311666 and parameters: {'n_estimators': 88, 'max_depth': 17, 'min_samples_split': 9, 'min_weight_fraction_leaf': 0.004861892928381406, 'min_impurity_decrease': 0.29314706873044943}. Best is trial 31 with value: 0.004790847125289758.\n",
      "[I 2024-11-23 21:47:00,441] Trial 36 finished with value: 0.0047908721905533325 and parameters: {'n_estimators': 130, 'max_depth': 29, 'min_samples_split': 9, 'min_weight_fraction_leaf': 0.03160812651720757, 'min_impurity_decrease': 0.36657611841901305}. Best is trial 31 with value: 0.004790847125289758.\n",
      "[I 2024-11-23 21:47:12,996] Trial 37 finished with value: 0.004790861776587675 and parameters: {'n_estimators': 76, 'max_depth': 20, 'min_samples_split': 11, 'min_weight_fraction_leaf': 0.06912883312266883, 'min_impurity_decrease': 0.33119406001805635}. Best is trial 31 with value: 0.004790847125289758.\n",
      "[I 2024-11-23 21:47:38,823] Trial 38 finished with value: 0.004790870513523127 and parameters: {'n_estimators': 158, 'max_depth': 25, 'min_samples_split': 7, 'min_weight_fraction_leaf': 0.03767142818986722, 'min_impurity_decrease': 0.28552941334568094}. Best is trial 31 with value: 0.004790847125289758.\n",
      "[I 2024-11-23 21:47:56,141] Trial 39 finished with value: 0.004790864400844806 and parameters: {'n_estimators': 104, 'max_depth': 14, 'min_samples_split': 12, 'min_weight_fraction_leaf': 0.00040465179149790087, 'min_impurity_decrease': 0.4193816284347988}. Best is trial 31 with value: 0.004790847125289758.\n",
      "[I 2024-11-23 21:48:07,848] Trial 40 finished with value: 0.004790859243496043 and parameters: {'n_estimators': 64, 'max_depth': 25, 'min_samples_split': 9, 'min_weight_fraction_leaf': 0.07257974427717392, 'min_impurity_decrease': 0.3522592000375072}. Best is trial 31 with value: 0.004790847125289758.\n",
      "[I 2024-11-23 21:48:16,412] Trial 41 finished with value: 0.004790850936921189 and parameters: {'n_estimators': 50, 'max_depth': 29, 'min_samples_split': 7, 'min_weight_fraction_leaf': 0.05148120672477553, 'min_impurity_decrease': 0.30947774110495735}. Best is trial 31 with value: 0.004790847125289758.\n",
      "[I 2024-11-23 21:48:29,974] Trial 42 finished with value: 0.004790860403331938 and parameters: {'n_estimators': 79, 'max_depth': 27, 'min_samples_split': 7, 'min_weight_fraction_leaf': 0.11701297485623187, 'min_impurity_decrease': 0.25631049249754334}. Best is trial 31 with value: 0.004790847125289758.\n",
      "[I 2024-11-23 21:48:39,017] Trial 43 finished with value: 0.004790848979442727 and parameters: {'n_estimators': 51, 'max_depth': 30, 'min_samples_split': 6, 'min_weight_fraction_leaf': 0.029585246615984613, 'min_impurity_decrease': 0.3906170580421766}. Best is trial 31 with value: 0.004790847125289758.\n",
      "[I 2024-11-23 21:48:58,080] Trial 44 finished with value: 0.004790868443807659 and parameters: {'n_estimators': 113, 'max_depth': 34, 'min_samples_split': 6, 'min_weight_fraction_leaf': 0.02321295319400948, 'min_impurity_decrease': 0.40107181214149207}. Best is trial 31 with value: 0.004790847125289758.\n",
      "[I 2024-11-23 21:49:22,603] Trial 45 finished with value: 0.004790871136972215 and parameters: {'n_estimators': 150, 'max_depth': 30, 'min_samples_split': 10, 'min_weight_fraction_leaf': 0.08254278270234647, 'min_impurity_decrease': 0.3933923529594734}. Best is trial 31 with value: 0.004790847125289758.\n",
      "[I 2024-11-23 21:49:53,202] Trial 46 finished with value: 0.004790875555290333 and parameters: {'n_estimators': 187, 'max_depth': 32, 'min_samples_split': 8, 'min_weight_fraction_leaf': 0.038317289119151346, 'min_impurity_decrease': 0.45749846348540024}. Best is trial 31 with value: 0.004790847125289758.\n",
      "[I 2024-11-23 21:50:08,521] Trial 47 finished with value: 0.004790860152158476 and parameters: {'n_estimators': 93, 'max_depth': 4, 'min_samples_split': 5, 'min_weight_fraction_leaf': 0.10191474245490845, 'min_impurity_decrease': 0.22003775368845924}. Best is trial 31 with value: 0.004790847125289758.\n",
      "[I 2024-11-23 21:50:15,282] Trial 48 finished with value: 53.854595971754144 and parameters: {'n_estimators': 70, 'max_depth': 25, 'min_samples_split': 12, 'min_weight_fraction_leaf': 0.3712766814614094, 'min_impurity_decrease': 0.27021522639199863}. Best is trial 31 with value: 0.004790847125289758.\n",
      "[I 2024-11-23 21:50:24,453] Trial 49 finished with value: 0.004790848073716674 and parameters: {'n_estimators': 55, 'max_depth': 19, 'min_samples_split': 9, 'min_weight_fraction_leaf': 0.024431015164508064, 'min_impurity_decrease': 0.31406711671381204}. Best is trial 31 with value: 0.004790847125289758.\n",
      "Best hyperparameters: {'n_estimators': 60, 'max_depth': 29, 'min_samples_split': 7, 'min_weight_fraction_leaf': 0.05385219631741026, 'min_impurity_decrease': 0.3112031973589575}\n",
      "Best MSE: 0.004790847125289758\n"
     ]
    },
    {
     "ename": "ImportError",
     "evalue": "Tried to import 'plotly' but failed. Please make sure that the package is installed correctly to use this feature. Actual error: No module named 'plotly'.",
     "output_type": "error",
     "traceback": [
      "\u001b[1;31m---------------------------------------------------------------------------\u001b[0m",
      "\u001b[1;31mModuleNotFoundError\u001b[0m                       Traceback (most recent call last)",
      "File \u001b[1;32mc:\\Users\\310\\AppData\\Local\\pypoetry\\Cache\\virtualenvs\\microstructure-price-prediction-p_py7spM-py3.12\\Lib\\site-packages\\optuna\\visualization\\_plotly_imports.py:7\u001b[0m\n\u001b[0;32m      6\u001b[0m \u001b[38;5;28;01mwith\u001b[39;00m try_import() \u001b[38;5;28;01mas\u001b[39;00m _imports:\n\u001b[1;32m----> 7\u001b[0m     \u001b[38;5;28;01mimport\u001b[39;00m \u001b[38;5;21;01mplotly\u001b[39;00m\n\u001b[0;32m      8\u001b[0m     \u001b[38;5;28;01mfrom\u001b[39;00m \u001b[38;5;21;01mplotly\u001b[39;00m \u001b[38;5;28;01mimport\u001b[39;00m __version__ \u001b[38;5;28;01mas\u001b[39;00m plotly_version\n",
      "\u001b[1;31mModuleNotFoundError\u001b[0m: No module named 'plotly'",
      "\nThe above exception was the direct cause of the following exception:\n",
      "\u001b[1;31mImportError\u001b[0m                               Traceback (most recent call last)",
      "Cell \u001b[1;32mIn[8], line 36\u001b[0m\n\u001b[0;32m     33\u001b[0m \u001b[38;5;28mprint\u001b[39m(\u001b[38;5;124m\"\u001b[39m\u001b[38;5;124mBest MSE:\u001b[39m\u001b[38;5;124m\"\u001b[39m, study\u001b[38;5;241m.\u001b[39mbest_value)\n\u001b[0;32m     35\u001b[0m \u001b[38;5;66;03m# Visualize optimization progress\u001b[39;00m\n\u001b[1;32m---> 36\u001b[0m \u001b[43moptuna\u001b[49m\u001b[38;5;241;43m.\u001b[39;49m\u001b[43mvisualization\u001b[49m\u001b[38;5;241;43m.\u001b[39;49m\u001b[43mplot_optimization_history\u001b[49m\u001b[43m(\u001b[49m\u001b[43mstudy\u001b[49m\u001b[43m)\u001b[49m\u001b[38;5;241m.\u001b[39mshow()\n\u001b[0;32m     37\u001b[0m optuna\u001b[38;5;241m.\u001b[39mvisualization\u001b[38;5;241m.\u001b[39mplot_parallel_coordinate(study)\u001b[38;5;241m.\u001b[39mshow()\n\u001b[0;32m     39\u001b[0m \u001b[38;5;66;03m# Launch Optuna dashboard (optional)\u001b[39;00m\n\u001b[0;32m     40\u001b[0m \u001b[38;5;66;03m# Uncomment the line below to launch Optuna's dashboard\u001b[39;00m\n",
      "File \u001b[1;32mc:\\Users\\310\\AppData\\Local\\pypoetry\\Cache\\virtualenvs\\microstructure-price-prediction-p_py7spM-py3.12\\Lib\\site-packages\\optuna\\visualization\\_optimization_history.py:200\u001b[0m, in \u001b[0;36mplot_optimization_history\u001b[1;34m(study, target, target_name, error_bar)\u001b[0m\n\u001b[0;32m    172\u001b[0m \u001b[38;5;28;01mdef\u001b[39;00m \u001b[38;5;21mplot_optimization_history\u001b[39m(\n\u001b[0;32m    173\u001b[0m     study: Study \u001b[38;5;241m|\u001b[39m Sequence[Study],\n\u001b[0;32m    174\u001b[0m     \u001b[38;5;241m*\u001b[39m,\n\u001b[1;32m   (...)\u001b[0m\n\u001b[0;32m    177\u001b[0m     error_bar: \u001b[38;5;28mbool\u001b[39m \u001b[38;5;241m=\u001b[39m \u001b[38;5;28;01mFalse\u001b[39;00m,\n\u001b[0;32m    178\u001b[0m ) \u001b[38;5;241m-\u001b[39m\u001b[38;5;241m>\u001b[39m \u001b[38;5;124m\"\u001b[39m\u001b[38;5;124mgo.Figure\u001b[39m\u001b[38;5;124m\"\u001b[39m:\n\u001b[0;32m    179\u001b[0m \u001b[38;5;250m    \u001b[39m\u001b[38;5;124;03m\"\"\"Plot optimization history of all trials in a study.\u001b[39;00m\n\u001b[0;32m    180\u001b[0m \n\u001b[0;32m    181\u001b[0m \u001b[38;5;124;03m    Args:\u001b[39;00m\n\u001b[1;32m   (...)\u001b[0m\n\u001b[0;32m    197\u001b[0m \u001b[38;5;124;03m        A :class:`plotly.graph_objects.Figure` object.\u001b[39;00m\n\u001b[0;32m    198\u001b[0m \u001b[38;5;124;03m    \"\"\"\u001b[39;00m\n\u001b[1;32m--> 200\u001b[0m     \u001b[43m_imports\u001b[49m\u001b[38;5;241;43m.\u001b[39;49m\u001b[43mcheck\u001b[49m\u001b[43m(\u001b[49m\u001b[43m)\u001b[49m\n\u001b[0;32m    202\u001b[0m     info_list \u001b[38;5;241m=\u001b[39m _get_optimization_history_info_list(study, target, target_name, error_bar)\n\u001b[0;32m    203\u001b[0m     \u001b[38;5;28;01mreturn\u001b[39;00m _get_optimization_history_plot(info_list, target_name)\n",
      "File \u001b[1;32mc:\\Users\\310\\AppData\\Local\\pypoetry\\Cache\\virtualenvs\\microstructure-price-prediction-p_py7spM-py3.12\\Lib\\site-packages\\optuna\\_imports.py:95\u001b[0m, in \u001b[0;36m_DeferredImportExceptionContextManager.check\u001b[1;34m(self)\u001b[0m\n\u001b[0;32m     93\u001b[0m \u001b[38;5;28;01mif\u001b[39;00m \u001b[38;5;28mself\u001b[39m\u001b[38;5;241m.\u001b[39m_deferred \u001b[38;5;129;01mis\u001b[39;00m \u001b[38;5;129;01mnot\u001b[39;00m \u001b[38;5;28;01mNone\u001b[39;00m:\n\u001b[0;32m     94\u001b[0m     exc_value, message \u001b[38;5;241m=\u001b[39m \u001b[38;5;28mself\u001b[39m\u001b[38;5;241m.\u001b[39m_deferred\n\u001b[1;32m---> 95\u001b[0m     \u001b[38;5;28;01mraise\u001b[39;00m \u001b[38;5;167;01mImportError\u001b[39;00m(message) \u001b[38;5;28;01mfrom\u001b[39;00m \u001b[38;5;21;01mexc_value\u001b[39;00m\n",
      "\u001b[1;31mImportError\u001b[0m: Tried to import 'plotly' but failed. Please make sure that the package is installed correctly to use this feature. Actual error: No module named 'plotly'."
     ]
    }
   ],
   "source": [
    "def objective(trial):\n",
    "    # Hyperparameter space\n",
    "    n_estimators = trial.suggest_int(\"n_estimators\", 50, 500)\n",
    "    max_depth = trial.suggest_int(\"max_depth\", 3, 50)\n",
    "    min_samples_split = trial.suggest_int(\"min_samples_split\", 2, 20)\n",
    "    min_weight_fraction_leaf = trial.suggest_float(\"min_weight_fraction_leaf\", 0.0, 0.5)\n",
    "    min_impurity_decrease = trial.suggest_float(\"min_impurity_decrease\", 0.0, 0.5)\n",
    "\n",
    "    # Define the RandomForestRegressor with trial parameters\n",
    "    model = RandomForestRegressor(\n",
    "        n_estimators=n_estimators,\n",
    "        max_depth=max_depth,\n",
    "        min_samples_split=min_samples_split,\n",
    "        min_weight_fraction_leaf=min_weight_fraction_leaf,\n",
    "        min_impurity_decrease=min_impurity_decrease,\n",
    "        random_state=42,\n",
    "        n_jobs=-1,\n",
    "    )\n",
    "\n",
    "    # Use K-Fold cross-validation\n",
    "    kf = KFold(n_splits=5, shuffle=True, random_state=42)\n",
    "    mse_scores = -cross_val_score(model, X_train, y_train, scoring=\"neg_mean_squared_error\", cv=kf)\n",
    "\n",
    "    # Return the mean MSE score\n",
    "    return np.mean(mse_scores)\n",
    "\n",
    "# Set up the Optuna study\n",
    "study = optuna.create_study(direction=\"minimize\")\n",
    "study.optimize(objective, n_trials=50, show_progress_bar=True)\n",
    "\n",
    "# Print the best parameters\n",
    "print(\"Best hyperparameters:\", study.best_params)\n",
    "print(\"Best MSE:\", study.best_value)\n",
    "\n",
    "# Visualize optimization progress\n",
    "optuna.visualization.plot_optimization_history(study).show()\n",
    "optuna.visualization.plot_parallel_coordinate(study).show()\n",
    "\n",
    "# Launch Optuna dashboard (optional)\n",
    "# Uncomment the line below to launch Optuna's dashboard\n",
    "!optuna-dashboard sqlite:///optuna.db --port 8080\n"
   ]
  }
 ],
 "metadata": {
  "kernelspec": {
   "display_name": "microstructure-price-prediction-p_py7spM-py3.12",
   "language": "python",
   "name": "python3"
  },
  "language_info": {
   "codemirror_mode": {
    "name": "ipython",
    "version": 3
   },
   "file_extension": ".py",
   "mimetype": "text/x-python",
   "name": "python",
   "nbconvert_exporter": "python",
   "pygments_lexer": "ipython3",
   "version": "3.12.5"
  }
 },
 "nbformat": 4,
 "nbformat_minor": 2
}
