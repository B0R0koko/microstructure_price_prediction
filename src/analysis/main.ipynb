{
 "cells": [
  {
   "cell_type": "code",
   "execution_count": 1,
   "id": "5005082c18761978",
   "metadata": {},
   "outputs": [],
   "source": [
    "from src.core.time_utils import Bounds\n",
    "from datetime import datetime, timedelta\n",
    "\n",
    "import pandas as pd\n",
    "import seaborn as sns"
   ]
  },
  {
   "cell_type": "code",
   "execution_count": 2,
   "id": "dcf03e34-cfcd-4b33-8d03-3318cd937548",
   "metadata": {},
   "outputs": [
    {
     "data": {
      "text/plain": [
       "[Bounds(start_inclusive=datetime.datetime(2024, 11, 1, 0, 0), end_exclusive=datetime.datetime(2024, 11, 1, 0, 10)),\n",
       " Bounds(start_inclusive=datetime.datetime(2024, 11, 1, 0, 5), end_exclusive=datetime.datetime(2024, 11, 1, 0, 15)),\n",
       " Bounds(start_inclusive=datetime.datetime(2024, 11, 1, 0, 10), end_exclusive=datetime.datetime(2024, 11, 1, 0, 20)),\n",
       " Bounds(start_inclusive=datetime.datetime(2024, 11, 1, 0, 15), end_exclusive=datetime.datetime(2024, 11, 1, 0, 25)),\n",
       " Bounds(start_inclusive=datetime.datetime(2024, 11, 1, 0, 20), end_exclusive=datetime.datetime(2024, 11, 1, 0, 30)),\n",
       " Bounds(start_inclusive=datetime.datetime(2024, 11, 1, 0, 25), end_exclusive=datetime.datetime(2024, 11, 1, 0, 35)),\n",
       " Bounds(start_inclusive=datetime.datetime(2024, 11, 1, 0, 30), end_exclusive=datetime.datetime(2024, 11, 1, 0, 40)),\n",
       " Bounds(start_inclusive=datetime.datetime(2024, 11, 1, 0, 35), end_exclusive=datetime.datetime(2024, 11, 1, 0, 45)),\n",
       " Bounds(start_inclusive=datetime.datetime(2024, 11, 1, 0, 40), end_exclusive=datetime.datetime(2024, 11, 1, 0, 50)),\n",
       " Bounds(start_inclusive=datetime.datetime(2024, 11, 1, 0, 45), end_exclusive=datetime.datetime(2024, 11, 1, 0, 55)),\n",
       " Bounds(start_inclusive=datetime.datetime(2024, 11, 1, 0, 50), end_exclusive=datetime.datetime(2024, 11, 1, 1, 0))]"
      ]
     },
     "execution_count": 2,
     "metadata": {},
     "output_type": "execute_result"
    }
   ],
   "source": [
    "start_time: datetime = datetime(2024, 11, 1, 0, 0, 0)\n",
    "end_time: datetime = datetime(2024, 11, 1, 1, 0, 0)\n",
    "\n",
    "interval: timedelta = timedelta(minutes=10)\n",
    "step: timedelta = timedelta(minutes=5)\n",
    "\n",
    "bounds: Bounds = Bounds(start_inclusive=start_time, end_exclusive=end_time)\n",
    "bounds.generate_overlapping_bounds(interval=interval, step=step)"
   ]
  },
  {
   "cell_type": "code",
   "execution_count": null,
   "id": "cf3f27b9-3fa5-4bf7-bea9-a5f58abd3cd5",
   "metadata": {},
   "outputs": [],
   "source": [
    "df: pd.DataFrame = pd.read_csv(\"features.csv\")"
   ]
  },
  {
   "cell_type": "code",
   "execution_count": null,
   "id": "c3753bc5-72f2-4669-bde2-8bb666377965",
   "metadata": {},
   "outputs": [],
   "source": [
    "sns.histplot(df[\"log_return\"])"
   ]
  },
  {
   "cell_type": "code",
   "execution_count": null,
   "id": "cca5d341-9417-4074-8327-0c1f6618ae57",
   "metadata": {},
   "outputs": [],
   "source": [
    "from datetime import datetime, timedelta\n",
    "from typing import *\n",
    "\n",
    "start_time: datetime = datetime(2024, 11, 1, 0, 0, 0)\n",
    "end_time: datetime = datetime(2024, 11, 1, 1, 0, 0)\n",
    "interval: timedelta = timedelta(minutes=10)\n",
    "step: timedelta = timedelta(minutes=5)\n",
    "\n",
    "intervals: List[Tuple[datetime, datetime]] = []\n",
    "\n",
    "lb = start_time\n",
    "while True:\n",
    "    rb: datetime = lb + interval\n",
    "    intervals.append((lb, rb))\n",
    "    lb += step\n",
    "    \n",
    "    if rb >= end_time:\n",
    "        break"
   ]
  }
 ],
 "metadata": {
  "kernelspec": {
   "display_name": "Python 3 (ipykernel)",
   "language": "python",
   "name": "python3"
  },
  "language_info": {
   "codemirror_mode": {
    "name": "ipython",
    "version": 3
   },
   "file_extension": ".py",
   "mimetype": "text/x-python",
   "name": "python",
   "nbconvert_exporter": "python",
   "pygments_lexer": "ipython3",
   "version": "3.12.4"
  }
 },
 "nbformat": 4,
 "nbformat_minor": 5
}
