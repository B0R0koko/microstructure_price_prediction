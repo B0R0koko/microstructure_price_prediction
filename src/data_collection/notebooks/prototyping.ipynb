{
 "cells": [
  {
   "cell_type": "code",
   "execution_count": 1,
   "id": "initial_id",
   "metadata": {
    "ExecuteTime": {
     "end_time": "2024-10-07T19:41:56.108894Z",
     "start_time": "2024-10-07T19:41:55.893958Z"
    }
   },
   "outputs": [],
   "source": [
    "from data_collection.core.currency import CurrencyPair\n",
    "from typing import *\n",
    "\n",
    "import requests\n",
    "import re"
   ]
  },
  {
   "cell_type": "markdown",
   "id": "2423e519-8aff-42b6-831d-4ee1f6a7f24e",
   "metadata": {},
   "source": [
    "<h4>Collect all tickers available on Binance</h4>"
   ]
  },
  {
   "cell_type": "code",
   "execution_count": 2,
   "id": "5a81b3a7-a43e-4431-88bd-350d4ae53a25",
   "metadata": {
    "ExecuteTime": {
     "end_time": "2024-10-03T18:27:39.884046Z",
     "start_time": "2024-10-03T18:27:39.074573Z"
    }
   },
   "outputs": [],
   "source": [
    "resp = requests.get(\"https://api.binance.com/api/v3/exchangeInfo\")\n",
    "\n",
    "data: Dict[str, Any] = resp.json()"
   ]
  },
  {
   "cell_type": "code",
   "execution_count": 4,
   "id": "483fe1c4-b5d6-4ac3-b64a-fbe922a44a88",
   "metadata": {},
   "outputs": [],
   "source": [
    "currency_pairs: List[CurrencyPair] = [\n",
    "    CurrencyPair(base=entry[\"baseAsset\"], term=entry[\"quoteAsset\"]) for entry in data[\"symbols\"]\n",
    "]"
   ]
  },
  {
   "cell_type": "markdown",
   "id": "8983c42c-3746-4fa4-9c96-d001c4d7807d",
   "metadata": {},
   "source": [
    "<h4>Reverse engineer BinanceDataVision</h4>"
   ]
  },
  {
   "cell_type": "code",
   "execution_count": 8,
   "id": "696c8c87-4827-4369-8605-c8140f811ebf",
   "metadata": {},
   "outputs": [],
   "source": [
    "params: Dict[str, Any] = {\n",
    "    \"delimiter\": \"/\",\n",
    "    \"prefix\": \"data/spot/daily/trades/1INCHBUSD/\"\n",
    "}\n",
    "\n",
    "resp = requests.get(\n",
    "    \"https://s3-ap-northeast-1.amazonaws.com/data.binance.vision\",\n",
    "    params=params\n",
    ")"
   ]
  },
  {
   "cell_type": "code",
   "execution_count": 10,
   "id": "3786ab47-7129-4b20-8bf2-aa5860cd6b1d",
   "metadata": {},
   "outputs": [
    {
     "data": {
      "text/plain": [
       "500"
      ]
     },
     "execution_count": 10,
     "metadata": {},
     "output_type": "execute_result"
    }
   ],
   "source": [
    "hrefs: List[str] = re.findall(pattern=r\"<Key>(.*?)</Key>\", string=resp.text)\n",
    "hrefs = [href for href in hrefs if \"CHECKSUM\" not in href]\n",
    "\n",
    "len(hrefs)"
   ]
  },
  {
   "cell_type": "code",
   "execution_count": 11,
   "id": "696bfb3f-a64d-47b5-ac86-e86dcc4a40b2",
   "metadata": {},
   "outputs": [
    {
     "data": {
      "text/plain": [
       "'data/spot/daily/trades/1INCHBUSD/1INCHBUSD-trades-2021-02-24.zip'"
      ]
     },
     "execution_count": 11,
     "metadata": {},
     "output_type": "execute_result"
    }
   ],
   "source": [
    "hrefs[1]"
   ]
  }
 ],
 "metadata": {
  "kernelspec": {
   "display_name": "Python 3 (ipykernel)",
   "language": "python",
   "name": "python3"
  },
  "language_info": {
   "codemirror_mode": {
    "name": "ipython",
    "version": 3
   },
   "file_extension": ".py",
   "mimetype": "text/x-python",
   "name": "python",
   "nbconvert_exporter": "python",
   "pygments_lexer": "ipython3",
   "version": "3.12.4"
  }
 },
 "nbformat": 4,
 "nbformat_minor": 5
}
