{
 "cells": [
  {
   "cell_type": "code",
   "execution_count": 20,
   "id": "initial_id",
   "metadata": {
    "ExecuteTime": {
     "end_time": "2024-10-03T18:41:01.157055Z",
     "start_time": "2024-10-03T18:41:00.905216Z"
    }
   },
   "outputs": [],
   "source": [
    "from data_collection.core.currency import CurrencyPair\n",
    "from typing import *\n",
    "\n",
    "import requests\n",
    "import re"
   ]
  },
  {
   "cell_type": "markdown",
   "id": "2423e519-8aff-42b6-831d-4ee1f6a7f24e",
   "metadata": {},
   "source": [
    "<h4>Collect all tickers available on Binance</h4>"
   ]
  },
  {
   "cell_type": "code",
   "execution_count": 2,
   "id": "5a81b3a7-a43e-4431-88bd-350d4ae53a25",
   "metadata": {
    "ExecuteTime": {
     "end_time": "2024-10-03T18:27:39.884046Z",
     "start_time": "2024-10-03T18:27:39.074573Z"
    }
   },
   "outputs": [],
   "source": [
    "resp = requests.get(\"https://api.binance.com/api/v3/exchangeInfo\")\n",
    "\n",
    "data: Dict[str, Any] = resp.json()"
   ]
  },
  {
   "cell_type": "code",
   "execution_count": 8,
   "id": "7a3ee392-0581-43a3-b982-dd4ba9aec83e",
   "metadata": {},
   "outputs": [],
   "source": [
    "for el in data[\"symbols\"]:\n",
    "    if \"baseAsset\" not in el:\n",
    "        print(el)"
   ]
  },
  {
   "cell_type": "code",
   "execution_count": 13,
   "id": "483fe1c4-b5d6-4ac3-b64a-fbe922a44a88",
   "metadata": {},
   "outputs": [],
   "source": [
    "currency_pairs: List[CurrencyPair] = [\n",
    "    CurrencyPair(base=entry[\"baseAsset\"], term=entry[\"quoteAsset\"]) for entry in data[\"symbols\"]\n",
    "]"
   ]
  },
  {
   "cell_type": "markdown",
   "id": "8983c42c-3746-4fa4-9c96-d001c4d7807d",
   "metadata": {},
   "source": [
    "<h4>Reverse engineer BinanceDataVision</h4>"
   ]
  },
  {
   "cell_type": "code",
   "execution_count": 23,
   "id": "696c8c87-4827-4369-8605-c8140f811ebf",
   "metadata": {},
   "outputs": [],
   "source": [
    "resp = requests.get(\n",
    "    \"https://s3-ap-northeast-1.amazonaws.com/data.binance.vision?delimiter=/&prefix=data/spot/monthly/trades/1INCHBUSD/\"\n",
    ")"
   ]
  },
  {
   "cell_type": "code",
   "execution_count": 24,
   "id": "3786ab47-7129-4b20-8bf2-aa5860cd6b1d",
   "metadata": {},
   "outputs": [
    {
     "data": {
      "text/plain": [
       "['data/spot/monthly/trades/1INCHBUSD/1INCHBUSD-trades-2021-02.zip',\n",
       " 'data/spot/monthly/trades/1INCHBUSD/1INCHBUSD-trades-2021-03.zip',\n",
       " 'data/spot/monthly/trades/1INCHBUSD/1INCHBUSD-trades-2021-04.zip',\n",
       " 'data/spot/monthly/trades/1INCHBUSD/1INCHBUSD-trades-2021-05.zip',\n",
       " 'data/spot/monthly/trades/1INCHBUSD/1INCHBUSD-trades-2021-06.zip',\n",
       " 'data/spot/monthly/trades/1INCHBUSD/1INCHBUSD-trades-2021-07.zip',\n",
       " 'data/spot/monthly/trades/1INCHBUSD/1INCHBUSD-trades-2021-08.zip',\n",
       " 'data/spot/monthly/trades/1INCHBUSD/1INCHBUSD-trades-2021-09.zip',\n",
       " 'data/spot/monthly/trades/1INCHBUSD/1INCHBUSD-trades-2021-10.zip',\n",
       " 'data/spot/monthly/trades/1INCHBUSD/1INCHBUSD-trades-2021-11.zip',\n",
       " 'data/spot/monthly/trades/1INCHBUSD/1INCHBUSD-trades-2021-12.zip',\n",
       " 'data/spot/monthly/trades/1INCHBUSD/1INCHBUSD-trades-2022-01.zip',\n",
       " 'data/spot/monthly/trades/1INCHBUSD/1INCHBUSD-trades-2022-02.zip',\n",
       " 'data/spot/monthly/trades/1INCHBUSD/1INCHBUSD-trades-2022-03.zip',\n",
       " 'data/spot/monthly/trades/1INCHBUSD/1INCHBUSD-trades-2022-04.zip',\n",
       " 'data/spot/monthly/trades/1INCHBUSD/1INCHBUSD-trades-2022-05.zip',\n",
       " 'data/spot/monthly/trades/1INCHBUSD/1INCHBUSD-trades-2022-06.zip',\n",
       " 'data/spot/monthly/trades/1INCHBUSD/1INCHBUSD-trades-2022-07.zip',\n",
       " 'data/spot/monthly/trades/1INCHBUSD/1INCHBUSD-trades-2022-08.zip',\n",
       " 'data/spot/monthly/trades/1INCHBUSD/1INCHBUSD-trades-2022-09.zip',\n",
       " 'data/spot/monthly/trades/1INCHBUSD/1INCHBUSD-trades-2022-10.zip',\n",
       " 'data/spot/monthly/trades/1INCHBUSD/1INCHBUSD-trades-2022-11.zip',\n",
       " 'data/spot/monthly/trades/1INCHBUSD/1INCHBUSD-trades-2022-12.zip',\n",
       " 'data/spot/monthly/trades/1INCHBUSD/1INCHBUSD-trades-2023-01.zip',\n",
       " 'data/spot/monthly/trades/1INCHBUSD/1INCHBUSD-trades-2023-02.zip',\n",
       " 'data/spot/monthly/trades/1INCHBUSD/1INCHBUSD-trades-2023-03.zip',\n",
       " 'data/spot/monthly/trades/1INCHBUSD/1INCHBUSD-trades-2023-04.zip',\n",
       " 'data/spot/monthly/trades/1INCHBUSD/1INCHBUSD-trades-2023-05.zip',\n",
       " 'data/spot/monthly/trades/1INCHBUSD/1INCHBUSD-trades-2023-06.zip',\n",
       " 'data/spot/monthly/trades/1INCHBUSD/1INCHBUSD-trades-2023-07.zip',\n",
       " 'data/spot/monthly/trades/1INCHBUSD/1INCHBUSD-trades-2023-08.zip',\n",
       " 'data/spot/monthly/trades/1INCHBUSD/1INCHBUSD-trades-2023-09.zip',\n",
       " 'data/spot/monthly/trades/1INCHBUSD/1INCHBUSD-trades-2023-10.zip']"
      ]
     },
     "execution_count": 24,
     "metadata": {},
     "output_type": "execute_result"
    }
   ],
   "source": [
    "hrefs: List[str] = re.findall(pattern=r\"<Key>(.*?)</Key>\", string=resp.text)\n",
    "hrefs = [href for href in hrefs if \"CHECKSUM\" not in href]\n",
    "\n",
    "hrefs"
   ]
  }
 ],
 "metadata": {
  "kernelspec": {
   "display_name": "Python 3 (ipykernel)",
   "language": "python",
   "name": "python3"
  },
  "language_info": {
   "codemirror_mode": {
    "name": "ipython",
    "version": 3
   },
   "file_extension": ".py",
   "mimetype": "text/x-python",
   "name": "python",
   "nbconvert_exporter": "python",
   "pygments_lexer": "ipython3",
   "version": "3.12.4"
  }
 },
 "nbformat": 4,
 "nbformat_minor": 5
}
