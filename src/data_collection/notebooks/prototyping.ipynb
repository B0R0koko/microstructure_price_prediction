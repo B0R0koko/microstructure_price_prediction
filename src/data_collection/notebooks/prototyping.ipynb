{
 "cells": [
  {
   "cell_type": "code",
   "execution_count": null,
   "id": "initial_id",
   "metadata": {
    "ExecuteTime": {
     "end_time": "2024-10-08T18:00:33.671481Z",
     "start_time": "2024-10-08T18:00:33.447112Z"
    }
   },
   "outputs": [],
   "source": [
    "from data_collection.core.currency import CurrencyPair\n",
    "from datetime import date, timedelta\n",
    "from typing import *\n",
    "\n",
    "import requests\n",
    "import re\n",
    "import pandas as pd"
   ]
  },
  {
   "cell_type": "markdown",
   "id": "2423e519-8aff-42b6-831d-4ee1f6a7f24e",
   "metadata": {},
   "source": [
    "<h4>Collect all tickers available on Binance</h4>"
   ]
  },
  {
   "cell_type": "code",
   "execution_count": null,
   "id": "5a81b3a7-a43e-4431-88bd-350d4ae53a25",
   "metadata": {
    "ExecuteTime": {
     "end_time": "2024-10-03T18:27:39.884046Z",
     "start_time": "2024-10-03T18:27:39.074573Z"
    }
   },
   "outputs": [],
   "source": [
    "resp = requests.get(\"https://api.binance.com/api/v3/exchangeInfo\")\n",
    "\n",
    "data: Dict[str, Any] = resp.json()"
   ]
  },
  {
   "cell_type": "code",
   "execution_count": null,
   "id": "483fe1c4-b5d6-4ac3-b64a-fbe922a44a88",
   "metadata": {},
   "outputs": [],
   "source": [
    "currency_pairs: List[CurrencyPair] = [\n",
    "    CurrencyPair(base=entry[\"baseAsset\"], term=entry[\"quoteAsset\"]) for entry in data[\"symbols\"]\n",
    "]"
   ]
  },
  {
   "cell_type": "markdown",
   "id": "8983c42c-3746-4fa4-9c96-d001c4d7807d",
   "metadata": {},
   "source": [
    "<h4>Reverse engineer BinanceDataVision</h4>"
   ]
  },
  {
   "cell_type": "code",
   "execution_count": null,
   "id": "696c8c87-4827-4369-8605-c8140f811ebf",
   "metadata": {},
   "outputs": [],
   "source": [
    "params: Dict[str, Any] = {\n",
    "    \"delimiter\": \"/\",\n",
    "    \"prefix\": \"data/spot/daily/trades/1INCHBUSD/\"\n",
    "}\n",
    "\n",
    "resp = requests.get(\n",
    "    \"https://s3-ap-northeast-1.amazonaws.com/data.binance.vision\",\n",
    "    params=params\n",
    ")"
   ]
  },
  {
   "cell_type": "code",
   "execution_count": null,
   "id": "3786ab47-7129-4b20-8bf2-aa5860cd6b1d",
   "metadata": {},
   "outputs": [],
   "source": [
    "hrefs: List[str] = re.findall(pattern=r\"<Key>(.*?)</Key>\", string=resp.text)\n",
    "hrefs = [href for href in hrefs if \"CHECKSUM\" not in href]\n",
    "\n",
    "len(hrefs)"
   ]
  },
  {
   "cell_type": "code",
   "execution_count": null,
   "id": "696bfb3f-a64d-47b5-ac86-e86dcc4a40b2",
   "metadata": {},
   "outputs": [],
   "source": [
    "hrefs[1]"
   ]
  },
  {
   "cell_type": "code",
   "execution_count": null,
   "id": "d2c4afc4-8fb0-4e80-9935-f5fb315a2dae",
   "metadata": {},
   "outputs": [],
   "source": [
    "from data_collection.core.time_utils import Bounds, get_last_day_month, get_first_day_month\n",
    "from calendar import monthrange\n",
    "\n",
    "start_date: date = date(2023, 1, 28)\n",
    "end_date: date = date(2024, 3, 3)\n",
    "\n",
    "bounds: Bounds = Bounds(start_date=start_date, end_date=end_date)\n",
    "\n",
    "get_last_day_month(bounds.start_date) + timedelta(days=1)"
   ]
  },
  {
   "cell_type": "code",
   "execution_count": null,
   "id": "def6ddae-cce4-4cd8-a804-8bf85d4b0eaa",
   "metadata": {},
   "outputs": [],
   "source": [
    "pd.date_range(start_date, end_date, freq=\"MS\", inclusive=\"both\")"
   ]
  },
  {
   "cell_type": "code",
   "execution_count": null,
   "id": "c1e8fa3f-0f78-4ab9-bdf3-caad8bce57ba",
   "metadata": {},
   "outputs": [],
   "source": [
    "def generate_year_months(start_date: date, end_date: date) -> Optional[List[date]]:\n",
    "    date_months: List[date] = [\n",
    "        date.date() for date in pd.date_range(start_date, end_date, freq=\"MS\", inclusive=\"both\").tolist()\n",
    "    ]\n",
    "    # check if the last value is correct\n",
    "    if not date_months:\n",
    "        return\n",
    "\n",
    "    if date_months[-1] == get_first_day_month(end_date):\n",
    "        date_months.pop(-1)\n",
    "    return date_months"
   ]
  },
  {
   "cell_type": "code",
   "execution_count": null,
   "id": "e52ebc9b-b180-4598-a7bd-7f90bce84fbd",
   "metadata": {},
   "outputs": [],
   "source": [
    "generate_year_months(start_date=start_date, end_date=end_date)"
   ]
  },
  {
   "cell_type": "code",
   "execution_count": null,
   "id": "62b11010-a55b-43dc-9fce-5334c30009ec",
   "metadata": {},
   "outputs": [],
   "source": [
    "[\n",
    "    el.date() for el in pd.date_range(get_first_day_month(end_date), end_date, freq=\"D\")\n",
    "]"
   ]
  }
 ],
 "metadata": {
  "kernelspec": {
   "display_name": "Python 3 (ipykernel)",
   "language": "python",
   "name": "python3"
  },
  "language_info": {
   "codemirror_mode": {
    "name": "ipython",
    "version": 3
   },
   "file_extension": ".py",
   "mimetype": "text/x-python",
   "name": "python",
   "nbconvert_exporter": "python",
   "pygments_lexer": "ipython3",
   "version": "3.12.4"
  }
 },
 "nbformat": 4,
 "nbformat_minor": 5
}
