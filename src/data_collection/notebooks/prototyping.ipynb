{
 "cells": [
  {
   "cell_type": "code",
   "execution_count": 2,
   "id": "initial_id",
   "metadata": {
    "ExecuteTime": {
     "end_time": "2024-10-03T18:27:37.052788Z",
     "start_time": "2024-10-03T18:27:37.037351Z"
    }
   },
   "outputs": [],
   "source": [
    "from data_collection.core.currency import CurrencyPair\n",
    "from typing import *\n",
    "\n",
    "import requests"
   ]
  },
  {
   "cell_type": "code",
   "execution_count": 6,
   "id": "5a81b3a7-a43e-4431-88bd-350d4ae53a25",
   "metadata": {
    "ExecuteTime": {
     "end_time": "2024-10-03T18:27:39.884046Z",
     "start_time": "2024-10-03T18:27:39.074573Z"
    }
   },
   "outputs": [],
   "source": [
    "resp = requests.get(\"https://api.binance.com/api/v3/exchangeInfo\")\n",
    "\n",
    "data: Dict[str, Any] = resp.json()"
   ]
  }
 ],
 "metadata": {
  "kernelspec": {
   "display_name": "Python 3 (ipykernel)",
   "language": "python",
   "name": "python3"
  },
  "language_info": {
   "codemirror_mode": {
    "name": "ipython",
    "version": 3
   },
   "file_extension": ".py",
   "mimetype": "text/x-python",
   "name": "python",
   "nbconvert_exporter": "python",
   "pygments_lexer": "ipython3",
   "version": "3.12.4"
  }
 },
 "nbformat": 4,
 "nbformat_minor": 5
}
